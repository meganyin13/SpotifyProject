{
 "cells": [
  {
   "cell_type": "markdown",
   "metadata": {},
   "source": [
    "# Linear Classification"
   ]
  },
  {
   "cell_type": "code",
   "execution_count": 135,
   "metadata": {},
   "outputs": [],
   "source": [
    "using CSV, DataFrames, MLDataUtils\n",
    "include(\"proxgrad.jl\");"
   ]
  },
  {
   "cell_type": "code",
   "execution_count": 136,
   "metadata": {},
   "outputs": [],
   "source": [
    "data = CSV.read(\"./data/data.csv\");"
   ]
  },
  {
   "cell_type": "code",
   "execution_count": 137,
   "metadata": {},
   "outputs": [],
   "source": [
    "data2020 = filter(row -> row.year == 2020, data);"
   ]
  },
  {
   "cell_type": "code",
   "execution_count": 138,
   "metadata": {},
   "outputs": [],
   "source": [
    "# All the numerical column names\n",
    "colnames = [\n",
    "    \"acousticness\",\n",
    "    \"danceability\",\n",
    "    \"duration_ms\",\n",
    "    \"energy\",\n",
    "    \"explicit\",\n",
    "    \"instrumentalness\",\n",
    "    \"key\",\n",
    "    \"liveness\",\n",
    "    \"loudness\",\n",
    "    \"mode\",\n",
    "    \"speechiness\",\n",
    "    \"tempo\",\n",
    "    \"valence\",\n",
    "]\n",
    "\n",
    "X = data2020[:, colnames];"
   ]
  },
  {
   "cell_type": "code",
   "execution_count": 139,
   "metadata": {},
   "outputs": [],
   "source": [
    "y = Int.(data2020.popularity .> 70);"
   ]
  },
  {
   "cell_type": "code",
   "execution_count": 140,
   "metadata": {},
   "outputs": [],
   "source": [
    "Xtrain, Xtest = splitobs(X, at = 0.7);\n",
    "ytrain, ytest = splitobs(y, at = 0.7);\n",
    "\n",
    "Xtrain = convert(Array{Float64}, Xtrain)\n",
    "Xtest = convert(Array{Float64}, Xtest);"
   ]
  },
  {
   "cell_type": "code",
   "execution_count": 141,
   "metadata": {},
   "outputs": [],
   "source": [
    "n = length(y)\n",
    "n_train = length(ytrain)\n",
    "n_test = length(ytest);"
   ]
  },
  {
   "cell_type": "code",
   "execution_count": 143,
   "metadata": {},
   "outputs": [],
   "source": [
    "λ = 1\n",
    "reg = λ*QuadReg()\n",
    "\n",
    "hinge_loss = 1/n * HingeLoss()\n",
    "\n",
    "w_hinge = proxgrad(hinge_loss, reg, Xtrain, ytrain, stepsize=10);"
   ]
  },
  {
   "cell_type": "code",
   "execution_count": 144,
   "metadata": {},
   "outputs": [
    {
     "data": {
      "text/plain": [
       "0.8137813211845103"
      ]
     },
     "execution_count": 144,
     "metadata": {},
     "output_type": "execute_result"
    }
   ],
   "source": [
    "yhat_hinge = impute(hinge_loss, Xtest*w_hinge)\n",
    "(n - sum(yhat_hinge .== ytest)) / n"
   ]
  },
  {
   "cell_type": "code",
   "execution_count": 146,
   "metadata": {},
   "outputs": [],
   "source": [
    "# logistic loss\n",
    "log_loss = 1/n*LogisticLoss()\n",
    "\n",
    "λ = 1\n",
    "reg = λ*QuadReg()\n",
    "\n",
    "# minimize 1/n \\frac 1 n \\sum_{i=1}^n (1 - y_i w^T x_i)_+ + λ||w||^2\n",
    "w_logistic = proxgrad(log_loss, reg, Xtrain, ytrain, maxiters=10);"
   ]
  },
  {
   "cell_type": "code",
   "execution_count": 147,
   "metadata": {},
   "outputs": [
    {
     "data": {
      "text/plain": [
       "0.8137813211845103"
      ]
     },
     "execution_count": 147,
     "metadata": {},
     "output_type": "execute_result"
    }
   ],
   "source": [
    "yhat_log = impute(log_loss, Xtest*w_logistic)\n",
    "(n - sum(yhat_log .== ytest)) / n"
   ]
  }
 ],
 "metadata": {
  "kernelspec": {
   "display_name": "Julia 1.5.1",
   "language": "julia",
   "name": "julia-1.5"
  },
  "language_info": {
   "file_extension": ".jl",
   "mimetype": "application/julia",
   "name": "julia",
   "version": "1.5.1"
  }
 },
 "nbformat": 4,
 "nbformat_minor": 4
}
