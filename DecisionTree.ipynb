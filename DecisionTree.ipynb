{
 "cells": [
  {
   "cell_type": "markdown",
   "metadata": {},
   "source": [
    "# Decision Tree"
   ]
  },
  {
   "cell_type": "code",
   "execution_count": 45,
   "metadata": {},
   "outputs": [],
   "source": [
    "using CSV, DataFrames, MLDataUtils, DecisionTree"
   ]
  },
  {
   "cell_type": "code",
   "execution_count": 46,
   "metadata": {},
   "outputs": [],
   "source": [
    "data = CSV.read(\"./data/data.csv\");"
   ]
  },
  {
   "cell_type": "code",
   "execution_count": 47,
   "metadata": {},
   "outputs": [],
   "source": [
    "data2020 = filter(row -> row.year == 2020, data);"
   ]
  },
  {
   "cell_type": "code",
   "execution_count": 48,
   "metadata": {},
   "outputs": [],
   "source": [
    "# All the numerical column names\n",
    "colnames = [\n",
    "    \"acousticness\",\n",
    "    \"danceability\",\n",
    "    \"duration_ms\",\n",
    "    \"energy\",\n",
    "    \"explicit\",\n",
    "    \"instrumentalness\",\n",
    "    \"key\",\n",
    "    \"liveness\",\n",
    "    \"loudness\",\n",
    "    \"mode\",\n",
    "    \"speechiness\",\n",
    "    \"tempo\",\n",
    "    \"valence\",\n",
    "]\n",
    "\n",
    "X = data2020[:, colnames];"
   ]
  },
  {
   "cell_type": "code",
   "execution_count": 49,
   "metadata": {},
   "outputs": [],
   "source": [
    "y = Int.(data2020.popularity .> 70);"
   ]
  },
  {
   "cell_type": "code",
   "execution_count": 50,
   "metadata": {},
   "outputs": [],
   "source": [
    "Xtrain, Xtest = splitobs(X, at = 0.7);\n",
    "ytrain, ytest = splitobs(y, at = 0.7);\n",
    "\n",
    "Xtrain = convert(Array{Float64}, Xtrain)\n",
    "Xtest = convert(Array{Float64}, Xtest);"
   ]
  },
  {
   "cell_type": "code",
   "execution_count": 51,
   "metadata": {},
   "outputs": [],
   "source": [
    "n = length(y)\n",
    "n_train = length(ytrain)\n",
    "n_test = length(ytest);"
   ]
  },
  {
   "cell_type": "code",
   "execution_count": 52,
   "metadata": {},
   "outputs": [
    {
     "name": "stdout",
     "output_type": "stream",
     "text": [
      "Feature 2, Threshold 0.6635\n",
      "L-> Feature 1, Threshold 0.6315\n",
      "    L-> Feature 3, Threshold 239976.5\n",
      "        L-> Feature 8, Threshold 0.591\n",
      "            L-> 0 : 235/334\n",
      "            R-> 1 : 8/10\n",
      "        R-> Feature 5, Threshold 0.5\n",
      "            L-> 0 : 57/59\n",
      "            R-> 0 : 18/26\n",
      "    R-> Feature 7, Threshold 7.5\n",
      "        L-> Feature 13, Threshold 0.429\n",
      "            L-> 0 : 51/58\n",
      "            R-> 0 : 21/21\n",
      "        R-> 0 : 35/35\n",
      "R-> Feature 9, Threshold -5.838\n",
      "    L-> Feature 12, Threshold 92.01750000000001\n",
      "        L-> Feature 1, Threshold 0.14\n",
      "            L-> 0 : 31/33\n",
      "            R-> 0 : 15/25\n",
      "        R-> Feature 9, Threshold -12.942499999999999\n",
      "            L-> 0 : 10/10\n",
      "            R-> 0 : 187/322\n",
      "    R-> Feature 12, Threshold 123.995\n",
      "        L-> Feature 11, Threshold 0.207\n",
      "            L-> 1 : 88/135\n",
      "            R-> 0 : 11/16\n",
      "        R-> Feature 12, Threshold 163.527\n",
      "            L-> 0 : 76/114\n",
      "            R-> 1 : 21/31\n"
     ]
    }
   ],
   "source": [
    "model = DecisionTreeClassifier(max_depth=4)\n",
    "fit!(model, Xtrain, ytrain)\n",
    "print_tree(model, 10)"
   ]
  },
  {
   "cell_type": "code",
   "execution_count": 53,
   "metadata": {},
   "outputs": [
    {
     "data": {
      "text/plain": [
       "0.5079726651480638"
      ]
     },
     "execution_count": 53,
     "metadata": {},
     "output_type": "execute_result"
    }
   ],
   "source": [
    "yhat_train = DecisionTree.predict(model, Xtrain)\n",
    "error_train = (n - (sum(yhat_train .== ytrain))) / n"
   ]
  },
  {
   "cell_type": "code",
   "execution_count": 54,
   "metadata": {},
   "outputs": [
    {
     "data": {
      "text/plain": [
       "0.6998861047835991"
      ]
     },
     "execution_count": 54,
     "metadata": {},
     "output_type": "execute_result"
    }
   ],
   "source": [
    "yhat_test = DecisionTree.predict(model, Xtest)\n",
    "error_test = (n - (sum(ypred .== yhat_test))) / n"
   ]
  }
 ],
 "metadata": {
  "kernelspec": {
   "display_name": "Julia 1.5.1",
   "language": "julia",
   "name": "julia-1.5"
  },
  "language_info": {
   "file_extension": ".jl",
   "mimetype": "application/julia",
   "name": "julia",
   "version": "1.5.1"
  }
 },
 "nbformat": 4,
 "nbformat_minor": 4
}
