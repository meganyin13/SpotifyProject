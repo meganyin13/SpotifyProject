{
 "cells": [
  {
   "cell_type": "markdown",
   "metadata": {},
   "source": [
    "# Decision Tree"
   ]
  },
  {
   "cell_type": "code",
   "execution_count": 68,
   "metadata": {},
   "outputs": [],
   "source": [
    "using CSV, DataFrames, MLDataUtils, DecisionTree"
   ]
  },
  {
   "cell_type": "code",
   "execution_count": 69,
   "metadata": {},
   "outputs": [],
   "source": [
    "data = CSV.read(\"./data/data.csv\");"
   ]
  },
  {
   "cell_type": "code",
   "execution_count": 70,
   "metadata": {},
   "outputs": [],
   "source": [
    "data2020 = filter(row -> row.year == 2020, data);"
   ]
  },
  {
   "cell_type": "code",
   "execution_count": 71,
   "metadata": {},
   "outputs": [],
   "source": [
    "# All the numerical column names\n",
    "colnames = [\n",
    "    \"acousticness\",\n",
    "    \"danceability\",\n",
    "    \"duration_ms\",\n",
    "    \"energy\",\n",
    "    \"explicit\",\n",
    "    \"instrumentalness\",\n",
    "    \"key\",\n",
    "    \"liveness\",\n",
    "    \"loudness\",\n",
    "    \"mode\",\n",
    "    \"speechiness\",\n",
    "    \"tempo\",\n",
    "    \"valence\",\n",
    "]\n",
    "\n",
    "X = data2020[:, colnames];"
   ]
  },
  {
   "cell_type": "code",
   "execution_count": 72,
   "metadata": {},
   "outputs": [],
   "source": [
    "y = Int.(data2020.popularity .> 50);"
   ]
  },
  {
   "cell_type": "code",
   "execution_count": 73,
   "metadata": {},
   "outputs": [],
   "source": [
    "Xtrain, Xtest = splitobs(X, at = 0.7);\n",
    "ytrain, ytest = splitobs(y, at = 0.7);\n",
    "\n",
    "Xtrain = convert(Array{Float64}, Xtrain)\n",
    "Xtest = convert(Array{Float64}, Xtest);"
   ]
  },
  {
   "cell_type": "code",
   "execution_count": 74,
   "metadata": {},
   "outputs": [],
   "source": [
    "n = length(y)\n",
    "n_train = length(ytrain)\n",
    "n_test = length(ytest);"
   ]
  },
  {
   "cell_type": "code",
   "execution_count": 81,
   "metadata": {},
   "outputs": [
    {
     "name": "stdout",
     "output_type": "stream",
     "text": [
      "Feature 5, Threshold 0.5\n",
      "L-> Feature 3, Threshold 202073.5\n",
      "    L-> 1 : 311/333\n",
      "    R-> 1 : 198/286\n",
      "R-> Feature 1, Threshold 0.5445\n",
      "    L-> 1 : 557/565\n",
      "    R-> 1 : 36/45\n"
     ]
    }
   ],
   "source": [
    "model = DecisionTreeClassifier(max_depth=2)\n",
    "fit!(model, Xtrain, ytrain)\n",
    "print_tree(model, 10)"
   ]
  },
  {
   "cell_type": "code",
   "execution_count": 82,
   "metadata": {},
   "outputs": [
    {
     "data": {
      "text/plain": [
       "0.3724373576309795"
      ]
     },
     "execution_count": 82,
     "metadata": {},
     "output_type": "execute_result"
    }
   ],
   "source": [
    "yhat_train = DecisionTree.predict(model, Xtrain)\n",
    "error_train = (n - (sum(yhat_train .== ytrain))) / n"
   ]
  },
  {
   "cell_type": "code",
   "execution_count": 83,
   "metadata": {},
   "outputs": [
    {
     "data": {
      "text/plain": [
       "0.9572892938496583"
      ]
     },
     "execution_count": 83,
     "metadata": {},
     "output_type": "execute_result"
    }
   ],
   "source": [
    "yhat_test = DecisionTree.predict(model, Xtest)\n",
    "error_test = (n - (sum(ypred .== yhat_test))) / n"
   ]
  },
  {
   "cell_type": "markdown",
   "metadata": {},
   "source": [
    "The training error is much smaller than the test error which shows that the decision tree severely overfits on the data even for small depths."
   ]
  }
 ],
 "metadata": {
  "kernelspec": {
   "display_name": "Julia 1.5.1",
   "language": "julia",
   "name": "julia-1.5"
  },
  "language_info": {
   "file_extension": ".jl",
   "mimetype": "application/julia",
   "name": "julia",
   "version": "1.5.1"
  }
 },
 "nbformat": 4,
 "nbformat_minor": 4
}
